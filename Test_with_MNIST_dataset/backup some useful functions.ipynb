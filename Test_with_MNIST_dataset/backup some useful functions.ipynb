{
 "cells": [
  {
   "cell_type": "markdown",
   "metadata": {},
   "source": [
    "### Read Udacity data from CSV file (the steering wheel angle)"
   ]
  },
  {
   "cell_type": "code",
   "execution_count": 12,
   "metadata": {
    "collapsed": false
   },
   "outputs": [
    {
     "name": "stdout",
     "output_type": "stream",
     "text": [
      "(3,)\n",
      "(5,)\n",
      "(3,)\n",
      "(5,)\n",
      "(3,)\n",
      "(5,)\n",
      "(3,)\n",
      "(5,)\n",
      "(3,)\n",
      "(5,)\n",
      "(3,)\n",
      "(5,)\n",
      "(3,)\n",
      "(5,)\n",
      "(3,)\n",
      "(5,)\n",
      "(3,)\n",
      "(5,)\n",
      "(3,)\n",
      "(5,)\n"
     ]
    }
   ],
   "source": [
    "import numpy as np\n",
    "import tensorflow as tf\n",
    "import math\n",
    "\n",
    "def read_from_csv(filename_queue):\n",
    "    reader = tf.TextLineReader(skip_header_lines = 1)\n",
    "    _,csv_row = reader.read(filename_queue)\n",
    "    record_defaults = [[0.],[0.],[0.0],[0.0],[0.0]]\n",
    "    col1, col2, col3, col4, col5 = tf.decode_csv(csv_row, record_defaults=record_defaults)\n",
    "    features = tf.pack([col3, col4, col5])\n",
    "    label = tf.pack([col1,col2])\n",
    "    return features, label\n",
    "\n",
    "# def input_pipeline(batch_size, num_epochs = None):\n",
    "#     filenames = ['test.csv']\n",
    "#     filename_queue = tf.train.string_input_producer([filenames], num_epochs=num_epochs, shuffle=True)\n",
    "#     features, label = read_from_csv(filename_queue)\n",
    "#     return features,label\n",
    "\n",
    "\n",
    "filenames = 'steering.csv'\n",
    "filename_queue = tf.train.string_input_producer([filenames], shuffle=False)\n",
    "\n",
    "examples, labels = read_from_csv(filename_queue)\n",
    "\n",
    "with tf.Session() as sess:\n",
    "    tf.initialize_all_variables()\n",
    "    \n",
    "    #start populating filename queue\n",
    "    coord = tf.train.Coordinator()\n",
    "    threads = tf.train.start_queue_runners(coord=coord)\n",
    "    \n",
    "    try:\n",
    "        counter = 10;\n",
    "        while not coord.should_stop():\n",
    "            example, label = sess.run([examples,labels])\n",
    "            data = np.append(example, label, axis=0)\n",
    "            print (np.shape(example))\n",
    "            print (np.shape(data))\n",
    "            counter = counter - 1\n",
    "            if counter == 0:\n",
    "                break\n",
    "    except tf.errors.OutOfRangeError:\n",
    "        print(\"done training\")\n",
    "    finally:\n",
    "        coord.request_stop()\n",
    "    "
   ]
  },
  {
   "cell_type": "markdown",
   "metadata": {
    "collapsed": true
   },
   "source": [
    "### reading images from disk by giving filename queue"
   ]
  },
  {
   "cell_type": "code",
   "execution_count": null,
   "metadata": {
    "collapsed": true
   },
   "outputs": [],
   "source": [
    "# this is a backup of loading images by tensorflow\n",
    "import tensorflow as tf\n",
    "import cv2\n",
    "import matplotlib.pyplot as plt\n",
    "%matplotlib inline\n",
    "# Make a queue of file names including all the JPEG images files in the relative\n",
    "# image directory.\n",
    "filenames = (['center/1475520791881005821.jpg','center/1475524323629009037.jpg'])\n",
    "filename_queue = tf.train.string_input_producer(filenames, shuffle=False)\n",
    "#     tf.train.match_filenames_once(\"center/1475520791881005821.jpg\"))\n",
    "\n",
    "# Read an entire image file which is required since they're JPEGs, if the images\n",
    "# are too large they could be split in advance to smaller files or use the Fixed\n",
    "# reader to split up the file.\n",
    "image_reader = tf.WholeFileReader()\n",
    "\n",
    "# Read a whole file from the queue, the first returned value in the tuple is the\n",
    "# filename which we are ignoring.\n",
    "_, image_file = image_reader.read(filename_queue)\n",
    "\n",
    "# Decode the image as a JPEG file, this will turn it into a Tensor which we can\n",
    "# then use in training.\n",
    "image = tf.image.decode_jpeg(image_file)\n",
    "\n",
    "# Start a new session to show example output.\n",
    "with tf.Session() as sess:\n",
    "    # Required to get the filename matching to run.\n",
    "    tf.initialize_all_variables().run()\n",
    "\n",
    "    # Coordinate the loading of image files.\n",
    "    coord = tf.train.Coordinator()\n",
    "    threads = tf.train.start_queue_runners(coord=coord)\n",
    "\n",
    "    # Get an image tensor and print its value.\n",
    "    image_tensor1 = sess.run([image])\n",
    "    image_tensor2 = sess.run([image])\n",
    "    image_tensor3 = sess.run([image])\n",
    "    image_tensor4 = sess.run([image])\n",
    "    print(image_tensor1[0][1,1,1])\n",
    "    print(image_tensor2[0][1,1,1])\n",
    "    print(image_tensor3[0][1,1,1])\n",
    "    print(image_tensor4[0][1,1,1])\n",
    "#     cv2.imshow(\"asd\",image_tensor[0])\n",
    "#     print(np.shape(image_tensor))\n",
    "\n",
    "    # Finish off the filename queue coordinator.\n",
    "    coord.request_stop()\n",
    "    coord.join(threads)"
   ]
  }
 ],
 "metadata": {
  "kernelspec": {
   "display_name": "Python 2",
   "language": "python",
   "name": "python2"
  },
  "language_info": {
   "codemirror_mode": {
    "name": "ipython",
    "version": 2
   },
   "file_extension": ".py",
   "mimetype": "text/x-python",
   "name": "python",
   "nbconvert_exporter": "python",
   "pygments_lexer": "ipython2",
   "version": "2.7.12"
  }
 },
 "nbformat": 4,
 "nbformat_minor": 1
}
